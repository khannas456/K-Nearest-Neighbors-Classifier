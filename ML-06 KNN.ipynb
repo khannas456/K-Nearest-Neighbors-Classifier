{
 "cells": [
  {
   "cell_type": "code",
   "execution_count": 4,
   "metadata": {},
   "outputs": [],
   "source": [
    "#K-nearest neighbours- Supervised\n",
    "#Instance vs Parametric"
   ]
  },
  {
   "cell_type": "code",
   "execution_count": 7,
   "metadata": {},
   "outputs": [],
   "source": [
    "import numpy as np"
   ]
  },
  {
   "cell_type": "code",
   "execution_count": 30,
   "metadata": {},
   "outputs": [
    {
     "ename": "SyntaxError",
     "evalue": "invalid syntax (<ipython-input-30-5bdeaa7ca3fc>, line 14)",
     "output_type": "error",
     "traceback": [
      "\u001b[1;36m  File \u001b[1;32m\"<ipython-input-30-5bdeaa7ca3fc>\"\u001b[1;36m, line \u001b[1;32m14\u001b[0m\n\u001b[1;33m    l1ist\u001b[0m\n\u001b[1;37m        ^\u001b[0m\n\u001b[1;31mSyntaxError\u001b[0m\u001b[1;31m:\u001b[0m invalid syntax\n"
     ]
    }
   ],
   "source": [
    "#Euclidean distance (L2)\n",
    "#(x1, y1), (x2, y2)\n",
    "\n",
    "a = np.array([1,2,3])\n",
    "b = np.array([4,5,6])\n",
    "\n",
    "l2dist = (np.sum((b-a)**2))**0.5\n",
    "print(l2dist)\n",
    "\n",
    "#Manhattan Distance (L1)\n",
    "#(x2-x1)+(y2-y1)\n",
    "\n",
    "l1ist =(np.sum(abs(a-b))\n",
    "l1ist"
   ]
  },
  {
   "cell_type": "code",
   "execution_count": 9,
   "metadata": {},
   "outputs": [],
   "source": [
    "import numpy as np\n",
    "import matplotlib.pyplot as plt\n",
    "%matplotlib inline"
   ]
  },
  {
   "cell_type": "code",
   "execution_count": 10,
   "metadata": {},
   "outputs": [
    {
     "data": {
      "text/plain": [
       "(500, 2)"
      ]
     },
     "execution_count": 10,
     "metadata": {},
     "output_type": "execute_result"
    }
   ],
   "source": [
    "mean1 = np.array([1,0])\n",
    "#coveriance\n",
    "cov1 = np.array([[1,0.1],[0.1,1.2]])\n",
    "dist1 = np.random.multivariate_normal(mean1,cov1,500)\n",
    "dist1.shape\n",
    "\n",
    "mean2 = np.array([4,5])\n",
    "cov2 = np.array([[1,0.1],[0.1,1.2]])\n",
    "dist2 = np.random.multivariate_normal(mean2,cov2,500)\n",
    "dist2.shape"
   ]
  },
  {
   "cell_type": "code",
   "execution_count": 16,
   "metadata": {},
   "outputs": [
    {
     "data": {
      "image/png": "[encoded data removed]",
      "text/plain": [
       "<Figure size 432x288 with 1 Axes>"
      ]
     },
     "metadata": {
      "needs_background": "light"
     },
     "output_type": "display_data"
    }
   ],
   "source": [
    "plt.xlim(-5,10)\n",
    "plt.ylim(-5,10)\n",
    "plt.scatter(dist1[:,0], dist1[:,1])\n",
    "plt.scatter(dist2[:,0], dist2[:,1])\n",
    "plt.show()"
   ]
  },
  {
   "cell_type": "code",
   "execution_count": 17,
   "metadata": {},
   "outputs": [
    {
     "name": "stdout",
     "output_type": "stream",
     "text": [
      "(1000, 3)\n"
     ]
    },
    {
     "data": {
      "text/plain": [
       "array([2.56777294, 2.52322227, 0.5       ])"
      ]
     },
     "execution_count": 17,
     "metadata": {},
     "output_type": "execute_result"
    }
   ],
   "source": [
    "data = np.zeros((1000,3))\n",
    "\n",
    "data[:500, :2] = dist1\n",
    "data[500:, :2] = dist2\n",
    "data[500:, -1] = 1\n",
    "print(data.shape)\n",
    "data.mean(axis=0)"
   ]
  },
  {
   "cell_type": "code",
   "execution_count": 18,
   "metadata": {},
   "outputs": [
    {
     "data": {
      "text/plain": [
       "array([[ 3.53240469,  6.14571973,  1.        ],\n",
       "       [ 3.31400648,  6.20344787,  1.        ],\n",
       "       [ 4.58349922,  4.24092072,  1.        ],\n",
       "       [ 3.51866624,  0.40625786,  0.        ],\n",
       "       [-0.00684487, -1.01102025,  0.        ],\n",
       "       [ 4.03933638,  5.47379551,  1.        ],\n",
       "       [ 1.93947507,  0.57718692,  0.        ],\n",
       "       [ 0.42259237, -0.90000209,  0.        ],\n",
       "       [ 2.48559515,  1.13716569,  0.        ],\n",
       "       [ 1.41501006, -0.06939227,  0.        ]])"
      ]
     },
     "execution_count": 18,
     "metadata": {},
     "output_type": "execute_result"
    }
   ],
   "source": [
    "np.random.shuffle(data)\n",
    "data[:10]"
   ]
  },
  {
   "cell_type": "code",
   "execution_count": 19,
   "metadata": {},
   "outputs": [],
   "source": [
    "def distance(a,b):\n",
    "    return (np.sum((b-a)**2))**0.5"
   ]
  },
  {
   "cell_type": "code",
   "execution_count": 36,
   "metadata": {},
   "outputs": [],
   "source": [
    "def knn(x_train, y_train, test_point, k=7):\n",
    "    vals = []\n",
    "    \n",
    "    for i in range(x_train.shape[0]):\n",
    "        d = distance(x_train[i], test_point)\n",
    "        vals.append([d, y_train[i]])\n",
    "        \n",
    "    sorted_label = sorted(vals, key=lambda r:r[0])\n",
    "    neighbors = np.asarray(sorted_label)[:k, -1] #asarray use as a numpy array it will not be dublicated\n",
    "    \n",
    "    #print(neighbors)\n",
    "    \n",
    "    freq = np.unique(neighbors, return_counts=True)\n",
    "    \n",
    "    index = freq[1].argmax()#argmax- maximum value ka index\n",
    "    return freq[0][index]\n",
    "    \n",
    "    \n",
    "    "
   ]
  },
  {
   "cell_type": "code",
   "execution_count": 37,
   "metadata": {},
   "outputs": [
    {
     "data": {
      "text/plain": [
       "0.0"
      ]
     },
     "execution_count": 37,
     "metadata": {},
     "output_type": "execute_result"
    }
   ],
   "source": [
    "x_train = data[:, :2]\n",
    "y_train = data[:, -1]\n",
    "test_point = np.array([2,3])\n",
    "\n",
    "knn(x_train,y_train,test_point)"
   ]
  },
  {
   "cell_type": "code",
   "execution_count": 38,
   "metadata": {},
   "outputs": [
    {
     "name": "stdout",
     "output_type": "stream",
     "text": [
      "(750, 2) (750,)\n",
      "(250, 2) (250,)\n"
     ]
    }
   ],
   "source": [
    "split = int (0.75 * data.shape[0])\n",
    "\n",
    "x_train = data[:split, :2]\n",
    "y_train = data[:split, -1]\n",
    "\n",
    "x_test = data[split:, :2]\n",
    "y_test = data[split:, -1]\n",
    "\n",
    "print(x_train.shape, y_train.shape)\n",
    "print(x_test.shape, y_test.shape)"
   ]
  },
  {
   "cell_type": "code",
   "execution_count": 41,
   "metadata": {},
   "outputs": [],
   "source": [
    "def acc(k):\n",
    "    \n",
    "    predictions = []\n",
    "    \n",
    "    for i in range(x_test.shape[0]):\n",
    "        test_point = x_test[i]\n",
    "        predicted_label = knn(x_train,y_train, test_point, k)\n",
    "        predictions.append(predicted_label)\n",
    "        \n",
    "    preds = np.asarray(predictions)\n",
    "#    print(y_test == preds)\n",
    "    \n",
    "    return 100 * (y_test == preds).sum()/ preds.shape[0]"
   ]
  },
  {
   "cell_type": "code",
   "execution_count": 48,
   "metadata": {},
   "outputs": [
    {
     "data": {
      "text/plain": [
       "100.0"
      ]
     },
     "execution_count": 48,
     "metadata": {},
     "output_type": "execute_result"
    }
   ],
   "source": [
    "acc(8)"
   ]
  },
  {
   "cell_type": "code",
   "execution_count": 49,
   "metadata": {},
   "outputs": [
    {
     "name": "stdout",
     "output_type": "stream",
     "text": [
      "For k=1 acc=100.0\n",
      "For k=2 acc=100.0\n",
      "For k=3 acc=100.0\n",
      "For k=4 acc=100.0\n",
      "For k=5 acc=100.0\n",
      "For k=6 acc=100.0\n",
      "For k=7 acc=100.0\n",
      "For k=8 acc=100.0\n",
      "For k=9 acc=100.0\n",
      "For k=10 acc=100.0\n",
      "For k=11 acc=100.0\n",
      "For k=12 acc=100.0\n",
      "For k=13 acc=100.0\n",
      "For k=14 acc=100.0\n",
      "For k=15 acc=100.0\n",
      "For k=16 acc=100.0\n",
      "For k=17 acc=100.0\n",
      "For k=18 acc=100.0\n",
      "For k=19 acc=100.0\n",
      "For k=20 acc=100.0\n",
      "For k=21 acc=100.0\n",
      "For k=22 acc=100.0\n",
      "For k=23 acc=100.0\n",
      "For k=24 acc=100.0\n",
      "For k=25 acc=100.0\n",
      "For k=26 acc=100.0\n",
      "For k=27 acc=100.0\n",
      "For k=28 acc=100.0\n",
      "For k=29 acc=100.0\n",
      "For k=30 acc=100.0\n",
      "For k=31 acc=100.0\n",
      "For k=32 acc=100.0\n",
      "For k=33 acc=100.0\n",
      "For k=34 acc=100.0\n",
      "For k=35 acc=100.0\n",
      "For k=36 acc=100.0\n",
      "For k=37 acc=100.0\n",
      "For k=38 acc=100.0\n",
      "For k=39 acc=100.0\n",
      "For k=40 acc=100.0\n",
      "For k=41 acc=100.0\n",
      "For k=42 acc=100.0\n",
      "For k=43 acc=100.0\n",
      "For k=44 acc=100.0\n",
      "For k=45 acc=100.0\n",
      "For k=46 acc=100.0\n",
      "For k=47 acc=100.0\n",
      "For k=48 acc=100.0\n",
      "For k=49 acc=100.0\n"
     ]
    }
   ],
   "source": [
    "for k in range(1,50):\n",
    "    print(f\"For k={k} acc={acc(k)}\")"
   ]
  },
  {
   "cell_type": "code",
   "execution_count": 50,
   "metadata": {},
   "outputs": [],
   "source": [
    "import sklearn"
   ]
  },
  {
   "cell_type": "code",
   "execution_count": 51,
   "metadata": {},
   "outputs": [],
   "source": [
    "from sklearn.neighbors import KNeighborsClassifier"
   ]
  },
  {
   "cell_type": "code",
   "execution_count": 52,
   "metadata": {},
   "outputs": [
    {
     "data": {
      "text/plain": [
       "1.0"
      ]
     },
     "execution_count": 52,
     "metadata": {},
     "output_type": "execute_result"
    }
   ],
   "source": [
    "neigh = KNeighborsClassifier(n_neighbors=5)\n",
    "neigh.fit(x_train,y_train)\n",
    "neigh.score(x_test,y_test)"
   ]
  }
 ],
 "metadata": {
  "kernelspec": {
   "display_name": "Python 3",
   "language": "python",
   "name": "python3"
  },
  "language_info": {
   "codemirror_mode": {
    "name": "ipython",
    "version": 3
   },
   "file_extension": ".py",
   "mimetype": "text/x-python",
   "name": "python",
   "nbconvert_exporter": "python",
   "pygments_lexer": "ipython3",
   "version": "3.7.3"
  }
 },
 "nbformat": 4,
 "nbformat_minor": 2
}
